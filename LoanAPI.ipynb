{
 "cells": [
  {
   "cell_type": "code",
   "execution_count": null,
   "metadata": {},
   "outputs": [],
   "source": [
    "import requests\n",
    "response = requests.get('https://raw.githubusercontent.com/platformps/LoanDataset/main/loan_data.json', params={'id' :\"4e236f34-b981-41c3-8c65-f8c9000b94e7\"})\n",
    "\n",
    "if response.status_code == 200:\n",
    "    print(\"Successful connection with API.\")\n",
    "    print('-------------------------------')\n",
    "    data = response.json()\n",
    "elif response.status_code == 404:\n",
    "    print(\"Unable to reach URL.\")\n",
    "else:\n",
    "    print(\"Unable to connect API or retrieve data.\")\n",
    "for record in data:\n",
    "     print(\"Gender: {},\\n Income: {},\\n Married: {},\\n\".format(record['Gender'] , record['Married'],record['Income']))"
   ]
  },
  {
   "cell_type": "code",
   "execution_count": null,
   "metadata": {},
   "outputs": [],
   "source": [
    "# Import necessary libs\n",
    "import pandas as pd\n",
    "from pyspark.sql import SparkSession \n",
    "from pyspark.sql import functions as sf\n",
    "from functools import reduce\n",
    "from pyspark.sql.functions import *\n",
    "from pyspark.sql.types import *\n",
    "from datetime import date, timedelta, datetime\n",
    "import time\n",
    "\n",
    "from pyspark.conf import SparkConf\n",
    "from pyspark.context import SparkContext\n",
    "\n",
    "conf = SparkConf().setAppName(\"DataExtractionApp\").setMaster(\"local[2]\")\n",
    "sc = SparkSession.builder.config(\"spark.driver.host\", \"localhost\") \\\n",
    ".config (\"spark.sql.execution.arrow.enabled\", \"true\").getOrCreate()\n"
   ]
  },
  {
   "cell_type": "code",
   "execution_count": null,
   "metadata": {},
   "outputs": [],
   "source": [
    "\n",
    "df_loan = sc.createDataFrame(response.json())\n",
    "df_loan.show()"
   ]
  },
  {
   "cell_type": "code",
   "execution_count": null,
   "metadata": {},
   "outputs": [],
   "source": [
    "df_loan.write.format(\"jdbc\") \\\n",
    ".mode(\"append\") \\\n",
    ".option(\"url\", \"jdbc:mysql://localhost:3306/creditcard_capstone\") \\\n",
    ".option(\"dbtable\", \"creditcard_capstone.CDW_SAPP_loan_application\") \\\n",
    ".option(\"user\", \"root\") \\\n",
    ".option(\"password\", \"lakshmi\") \\\n",
    ".save()"
   ]
  }
 ],
 "metadata": {
  "kernelspec": {
   "display_name": "Python 3.10.6 64-bit (windows store)",
   "language": "python",
   "name": "python3"
  },
  "language_info": {
   "codemirror_mode": {
    "name": "ipython",
    "version": 3
   },
   "file_extension": ".py",
   "mimetype": "text/x-python",
   "name": "python",
   "nbconvert_exporter": "python",
   "pygments_lexer": "ipython3",
   "version": "3.10.6"
  },
  "orig_nbformat": 4,
  "vscode": {
   "interpreter": {
    "hash": "af0bf7a01758ba7babefd011eaad64499d7d467a12f08aaf59d90860c0055fb4"
   }
  }
 },
 "nbformat": 4,
 "nbformat_minor": 2
}
