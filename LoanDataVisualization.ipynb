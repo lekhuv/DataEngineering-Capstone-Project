{
 "cells": [
  {
   "cell_type": "code",
   "execution_count": 1,
   "metadata": {},
   "outputs": [
    {
     "name": "stdout",
     "output_type": "stream",
     "text": [
      "+--------------+------------------+--------------+----------+---------+------+------+-------+-------------+-------------+\n",
      "|Application_ID|Application_Status|Credit_History|Dependents|Education|Gender|Income|Married|Property_Area|Self_Employed|\n",
      "+--------------+------------------+--------------+----------+---------+------+------+-------+-------------+-------------+\n",
      "|      LP001953|                 Y|             1|         1| Graduate|  Male|medium|    Yes|    Semiurban|           No|\n",
      "|      LP001002|                 Y|             1|         0| Graduate|  Male|medium|     No|        Urban|           No|\n",
      "|      LP001520|                 Y|             1|         0| Graduate|  Male|medium|    Yes|    Semiurban|           No|\n",
      "|      LP001744|                 Y|             1|         0| Graduate|  Male|   low|     No|    Semiurban|           No|\n",
      "|      LP002448|                 N|             0|         0| Graduate|  Male|   low|    Yes|        Rural|           No|\n",
      "|      LP001954|                 Y|             1|         1| Graduate|Female|medium|    Yes|        Urban|           No|\n",
      "|      LP001749|                 Y|             1|         0| Graduate|  Male|medium|    Yes|    Semiurban|           No|\n",
      "|      LP001528|                 N|             0|         0| Graduate|  Male|medium|     No|        Rural|           No|\n",
      "|      LP002449|                 Y|             0|         0| Graduate|  Male|   low|    Yes|        Rural|           No|\n",
      "|      LP001003|                 N|             1|         1| Graduate|  Male|medium|    Yes|        Rural|           No|\n",
      "|      LP001750|                 Y|             1|         0| Graduate|  Male|medium|    Yes|    Semiurban|           No|\n",
      "|      LP001955|                 N|             1|         0| Graduate|Female|medium|     No|        Rural|           No|\n",
      "|      LP001751|                 N|             1|         0| Graduate|  Male|   low|    Yes|        Rural|           No|\n",
      "|      LP002453|                 Y|             1|         0| Graduate|  Male|medium|     No|    Semiurban|          Yes|\n",
      "|      LP001529|                 Y|             1|         0| Graduate|  Male|   low|    Yes|        Rural|          Yes|\n",
      "|      LP001005|                 Y|             1|         0| Graduate|  Male|   low|    Yes|        Urban|          Yes|\n",
      "|      LP001758|                 Y|             1|         2| Graduate|  Male|medium|    Yes|    Semiurban|           No|\n",
      "|      LP001963|                 N|             1|         1| Graduate|  Male|   low|    Yes|        Urban|           No|\n",
      "|      LP001761|                 Y|             1|         0| Graduate|  Male|medium|     No|        Rural|          Yes|\n",
      "|      LP001531|                 N|             1|         0| Graduate|  Male|medium|     No|        Urban|           No|\n",
      "+--------------+------------------+--------------+----------+---------+------+------+-------+-------------+-------------+\n",
      "only showing top 20 rows\n",
      "\n"
     ]
    }
   ],
   "source": [
    "import pyspark\n",
    "from pyspark.sql.functions import *\n",
    "from pyspark.sql import SparkSession \n",
    "from pyspark.conf import SparkConf\n",
    "from pyspark.context import SparkContext\n",
    "conf = SparkConf().setAppName(\"DataVisualization\").setMaster(\"local\")\n",
    "sc = SparkSession.builder.config(\"spark.driver.host\", \"localhost\") \\\n",
    ".config (\"spark.sql.execution.arrow.enabled\", \"true\").getOrCreate()\n",
    "#.config (\"spark.sql.shuffle.partitions\", \"50\") \\\n",
    "#.config(\"spark.driver.maxResultSize\",\"5g\") \\\n",
    "\n",
    "\n",
    "# Read Credit Card Info from DB to a Data Frame\n",
    "df_loan=sc.read.format(\"jdbc\").options(driver=\"com.mysql.cj.jdbc.Driver\",\\\n",
    "                                     user=\"root\",\\\n",
    "                                     password=\"lakshmi\",\\\n",
    "                                     url=\"jdbc:mysql://localhost:3306/creditcard_capstone\",\\\n",
    "                                     dbtable=\"creditcard_capstone.CDW_SAPP_loan_application\").load()\n",
    "\n",
    "df_loan.show()"
   ]
  },
  {
   "cell_type": "code",
   "execution_count": 7,
   "metadata": {},
   "outputs": [
    {
     "name": "stderr",
     "output_type": "stream",
     "text": [
      "C:\\Spark\\python\\pyspark\\sql\\pandas\\conversion.py:114: UserWarning: toPandas attempted Arrow optimization because 'spark.sql.execution.arrow.pyspark.enabled' is set to true; however, failed by the reason below:\n",
      "  PyArrow >= 1.0.0 must be installed; however, it was not found.\n",
      "Attempting non-optimization as 'spark.sql.execution.arrow.pyspark.fallback.enabled' is set to true.\n",
      "  warn(msg)\n"
     ]
    },
    {
     "data": {
      "text/plain": [
       "<AxesSubplot:>"
      ]
     },
     "execution_count": 7,
     "metadata": {},
     "output_type": "execute_result"
    },
    {
     "data": {
      "image/png": "[encoded data removed]",
      "text/plain": [
       "<Figure size 432x288 with 1 Axes>"
      ]
     },
     "metadata": {
      "needs_background": "light"
     },
     "output_type": "display_data"
    }
   ],
   "source": [
    "df_loan_pd= df_loan.filter(df_loan.Married == 'Yes') \\\n",
    "        .groupBy('Gender', 'Application_Status') \\\n",
    "        .agg(count('Application_ID').alias('Transaction Count')) \\\n",
    "        .sort('Transaction Count') \\\n",
    "        .toPandas()\n",
    "\n",
    "df_loan_pd.plot(kind=\"bar\", stacked=True)\n"
   ]
  }
 ],
 "metadata": {
  "kernelspec": {
   "display_name": "Python 3.10.6 64-bit (windows store)",
   "language": "python",
   "name": "python3"
  },
  "language_info": {
   "codemirror_mode": {
    "name": "ipython",
    "version": 3
   },
   "file_extension": ".py",
   "mimetype": "text/x-python",
   "name": "python",
   "nbconvert_exporter": "python",
   "pygments_lexer": "ipython3",
   "version": "3.10.6"
  },
  "orig_nbformat": 4,
  "vscode": {
   "interpreter": {
    "hash": "af0bf7a01758ba7babefd011eaad64499d7d467a12f08aaf59d90860c0055fb4"
   }
  }
 },
 "nbformat": 4,
 "nbformat_minor": 2
}
