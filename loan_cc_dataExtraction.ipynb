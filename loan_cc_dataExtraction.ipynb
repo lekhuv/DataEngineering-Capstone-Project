{
 "cells": [
  {
   "cell_type": "code",
   "execution_count": 31,
   "metadata": {},
   "outputs": [],
   "source": [
    "# Import necessary libs\n",
    "import pandas as pd\n",
    "from pyspark.sql import SparkSession \n",
    "from pyspark.sql import functions as sf\n",
    "from functools import reduce\n",
    "from pyspark.sql.functions import *\n",
    "from pyspark.sql.types import *\n",
    "from datetime import date, timedelta, datetime\n",
    "import time\n",
    "\n",
    "from pyspark.conf import SparkConf\n",
    "from pyspark.context import SparkContext\n"
   ]
  },
  {
   "cell_type": "markdown",
   "metadata": {},
   "source": [
    "2. instantiate the spark session:"
   ]
  },
  {
   "cell_type": "code",
   "execution_count": 32,
   "metadata": {},
   "outputs": [],
   "source": [
    "conf = SparkConf().setAppName(\"DataExtractionApp\").setMaster(\"local[2]\")\n",
    "sc = SparkSession.builder.config(\"spark.driver.host\", \"localhost\") \\\n",
    ".config (\"spark.sql.execution.arrow.enabled\", \"true\").getOrCreate()"
   ]
  },
  {
   "cell_type": "markdown",
   "metadata": {},
   "source": [
    "3. ‘EXTRACT’ JSON data  and loaded in spark\n",
    "    1. CDW_SAPP_BRANCH.JSON\n",
    "    2. CDW_SAPP_CREDITCARD.JSON\n",
    "    3. CDW_SAPP_CUSTOMER.JSON\n"
   ]
  },
  {
   "cell_type": "code",
   "execution_count": 33,
   "metadata": {},
   "outputs": [
    {
     "name": "stdout",
     "output_type": "stream",
     "text": [
      "+------+----------------+------------+-------------+--------------------+----------+----------+--------+----------+---------+--------------------+-----------+---------+-----------------+\n",
      "|APT_NO|  CREDIT_CARD_NO|   CUST_CITY| CUST_COUNTRY|          CUST_EMAIL|CUST_PHONE|CUST_STATE|CUST_ZIP|FIRST_NAME|LAST_NAME|        LAST_UPDATED|MIDDLE_NAME|      SSN|      STREET_NAME|\n",
      "+------+----------------+------------+-------------+--------------------+----------+----------+--------+----------+---------+--------------------+-----------+---------+-----------------+\n",
      "|   656|4210653310061055|     Natchez|United States| AHooper@example.com|   1237818|        MS|   39120|      Alec|   Hooper|2018-04-21T12:49:...|         Wm|123456100|Main Street North|\n",
      "|   829|4210653310102868|Wethersfield|United States| EHolman@example.com|   1238933|        CT|   06109|      Etta|   Holman|2018-04-21T12:49:...|    Brendan|123453023|    Redwood Drive|\n",
      "|   683|4210653310116272|     Huntley|United States| WDunham@example.com|   1243018|        IL|   60142|    Wilber|   Dunham|2018-04-21T12:49:...|   Ezequiel|123454487| 12th Street East|\n",
      "|   253|4210653310195948|   NewBerlin|United States|  EHardy@example.com|   1243215|        WI|   53151|   Eugenio|    Hardy|2018-04-21T12:49:...|      Trina|123459758|Country Club Road|\n",
      "|   301|4210653310356919|      ElPaso|United States|  WAyers@example.com|   1242074|        TX|   79930|   Wilfred|    Ayers|2018-04-21T12:49:...|        May|123454431|   Madison Street|\n",
      "|     3|4210653310395982|NorthOlmsted|United States|BWoodard@example.com|   1242570|        OH|   44070|      Beau|  Woodard|2018-04-21T12:49:...|    Ambrose|123454202|   Colonial Drive|\n",
      "|    84|4210653310400536|      Vienna|United States|   SKemp@example.com|   1239685|        VA|   22180|    Sheila|     Kemp|2018-04-21T12:49:...|      Larry|123451799|   Belmont Avenue|\n",
      "|   728|4210653310459911|      Duarte|United States| WHurley@example.com|   1238213|        CA|   91010|     Wendy|   Hurley|2018-04-21T12:49:...|        Ora|123453875|     Oxford Court|\n",
      "|    81|4210653310773972|      Owosso|United States|AGilmore@example.com|   1240689|        MI|   48867|      Alec|  Gilmore|2018-04-21T12:49:...|     Tracie|123457511|    Forest Street|\n",
      "|   561|4210653310794854|        Zion|United States|    BLau@example.com|   1235222|        IL|   60099|    Barbra|      Lau|2018-04-21T12:49:...|    Mitchel|123457464|     Court Street|\n",
      "|   622|4210653310817373|  Youngstown|United States|EThomson@example.com|   1241363|        OH|   44512|   Edmundo|  Thomson|2018-04-21T12:49:...|      Denny|123457639|    Cypress Court|\n",
      "|   924|4210653310844617| Summerville|United States| ETruong@example.com|   1236228|        SC|   29483|      Elsa|   Truong|2018-04-21T12:49:...|   Isabelle|123453242|  8th Street West|\n",
      "|   611|4210653311015303|      ElPaso|United States|HMckinney@example...|   1238165|        TX|   79930|     Homer| Mckinney|2018-04-21T12:49:...|      Henry|123454339|      East Avenue|\n",
      "|   680|4210653311215039|      Fenton|United States|   RKidd@example.com|   1234730|        MI|   48430|      Rita|     Kidd|2018-04-21T12:49:...|     Rickey|123454537|         Route 44|\n",
      "|    71|4210653311229354|  Grandville|United States|ABallard@example.com|   1242113|        MI|   49418|    Amalia|  Ballard|2018-04-21T12:49:...|  Heriberto|123452373|    Warren Street|\n",
      "|   195|4210653311652836|    YubaCity|United States| PThomas@example.com|   1239888|        CA|   95993|     Patty|   Thomas|2018-04-21T12:49:...|   Angelita|123455343|     Jones Street|\n",
      "|   500|4210653311707126|   CapeCoral|United States| JMorrow@example.com|   1240158|        FL|   33904|  Josefina|   Morrow|2018-04-21T12:49:...|   Dorothea|123451533|       New Street|\n",
      "|   989|4210653311730764|  Brookfield|United States|NAndrews@example.com|   1241408|        WI|   53045|    Nelson|  Andrews|2018-04-21T12:49:...|  Jefferson|123459278|  Division Street|\n",
      "|   810|4210653311898082|    Richmond|United States|MSchneider@exampl...|   1238390|        VA|   23223|    Miquel|Schneider|2018-04-21T12:49:...|     Maximo|123456915|     Maple Street|\n",
      "|   649|4210653312021765| WestChester|United States|PTidwell@example.com|   1235067|        PA|   19380|    Parker|  Tidwell|2018-04-21T12:49:...|    Arnulfo|123453807|       Eagle Road|\n",
      "+------+----------------+------------+-------------+--------------------+----------+----------+--------+----------+---------+--------------------+-----------+---------+-----------------+\n",
      "only showing top 20 rows\n",
      "\n"
     ]
    }
   ],
   "source": [
    "df_cust = sc.read.json('data/cdw_sapp_custmer.json')\n",
    "df_cust.show()"
   ]
  },
  {
   "cell_type": "code",
   "execution_count": 34,
   "metadata": {},
   "outputs": [
    {
     "data": {
      "text/plain": [
       "[Row(BRANCH_CODE=114, CREDIT_CARD_NO='4210653349028689', CUST_SSN=123459988, DAY=14, MONTH=2, TRANSACTION_ID=1, TRANSACTION_TYPE='Education', TRANSACTION_VALUE=78.9, YEAR=2018),\n",
       " Row(BRANCH_CODE=35, CREDIT_CARD_NO='4210653349028689', CUST_SSN=123459988, DAY=20, MONTH=3, TRANSACTION_ID=2, TRANSACTION_TYPE='Entertainment', TRANSACTION_VALUE=14.24, YEAR=2018),\n",
       " Row(BRANCH_CODE=160, CREDIT_CARD_NO='4210653349028689', CUST_SSN=123459988, DAY=8, MONTH=7, TRANSACTION_ID=3, TRANSACTION_TYPE='Grocery', TRANSACTION_VALUE=56.7, YEAR=2018),\n",
       " Row(BRANCH_CODE=114, CREDIT_CARD_NO='4210653349028689', CUST_SSN=123459988, DAY=19, MONTH=4, TRANSACTION_ID=4, TRANSACTION_TYPE='Entertainment', TRANSACTION_VALUE=59.73, YEAR=2018),\n",
       " Row(BRANCH_CODE=93, CREDIT_CARD_NO='4210653349028689', CUST_SSN=123459988, DAY=10, MONTH=10, TRANSACTION_ID=5, TRANSACTION_TYPE='Gas', TRANSACTION_VALUE=3.59, YEAR=2018)]"
      ]
     },
     "execution_count": 34,
     "metadata": {},
     "output_type": "execute_result"
    }
   ],
   "source": [
    "df_credit = sc.read.json('data/cdw_sapp_credit.json')\n",
    "df_credit.head(5)"
   ]
  },
  {
   "cell_type": "code",
   "execution_count": 35,
   "metadata": {},
   "outputs": [
    {
     "name": "stdout",
     "output_type": "stream",
     "text": [
      "root\n",
      " |-- BRANCH_CITY: string (nullable = true)\n",
      " |-- BRANCH_CODE: long (nullable = true)\n",
      " |-- BRANCH_NAME: string (nullable = true)\n",
      " |-- BRANCH_PHONE: string (nullable = true)\n",
      " |-- BRANCH_STATE: string (nullable = true)\n",
      " |-- BRANCH_STREET: string (nullable = true)\n",
      " |-- BRANCH_ZIP: long (nullable = true)\n",
      " |-- LAST_UPDATED: string (nullable = true)\n",
      "\n"
     ]
    }
   ],
   "source": [
    "df_branch = sc.read.json('data/cdw_sapp_branch.json')\n",
    "#df_branch.head(5)\n",
    "#df_branch.show()\n",
    "df_branch.printSchema()"
   ]
  },
  {
   "cell_type": "markdown",
   "metadata": {},
   "source": [
    "4. Transform the data based on the requirements found in the Mapping Document.\n",
    "        \n",
    "    1. FIRST_NAME - Convert the Name to Title Case\n",
    "    2. MIDDLE_NAME - Convert the middle name in lower case\n",
    "    3. LAST_NAME - Convert the Last Name in Title Case\n",
    "    4. STREET_NAME,APT_NO - Concatenate Apartment no and Street name of customer's Residence with comma as a seperator (Street, Apartment)\n",
    "                    in new column FULL_STREET_ADDRESS\n",
    "    5. CUST_PHONE - Change the format to xxx-xxxx\n"
   ]
  },
  {
   "cell_type": "code",
   "execution_count": 36,
   "metadata": {},
   "outputs": [
    {
     "data": {
      "text/plain": [
       "[Row(APT_NO='656', CREDIT_CARD_NO='4210653310061055', CUST_CITY='Natchez', CUST_COUNTRY='United States', CUST_EMAIL='AHooper@example.com', CUST_PHONE=1237818, CUST_STATE='MS', CUST_ZIP='39120', FIRST_NAME='Alec', LAST_NAME='Hooper', LAST_UPDATED='2018-04-21T12:49:02.000-04:00', MIDDLE_NAME='wm', SSN=123456100, STREET_NAME='Main Street North'),\n",
       " Row(APT_NO='829', CREDIT_CARD_NO='4210653310102868', CUST_CITY='Wethersfield', CUST_COUNTRY='United States', CUST_EMAIL='EHolman@example.com', CUST_PHONE=1238933, CUST_STATE='CT', CUST_ZIP='06109', FIRST_NAME='Etta', LAST_NAME='Holman', LAST_UPDATED='2018-04-21T12:49:02.000-04:00', MIDDLE_NAME='brendan', SSN=123453023, STREET_NAME='Redwood Drive'),\n",
       " Row(APT_NO='683', CREDIT_CARD_NO='4210653310116272', CUST_CITY='Huntley', CUST_COUNTRY='United States', CUST_EMAIL='WDunham@example.com', CUST_PHONE=1243018, CUST_STATE='IL', CUST_ZIP='60142', FIRST_NAME='Wilber', LAST_NAME='Dunham', LAST_UPDATED='2018-04-21T12:49:02.000-04:00', MIDDLE_NAME='ezequiel', SSN=123454487, STREET_NAME='12th Street East'),\n",
       " Row(APT_NO='253', CREDIT_CARD_NO='4210653310195948', CUST_CITY='NewBerlin', CUST_COUNTRY='United States', CUST_EMAIL='EHardy@example.com', CUST_PHONE=1243215, CUST_STATE='WI', CUST_ZIP='53151', FIRST_NAME='Eugenio', LAST_NAME='Hardy', LAST_UPDATED='2018-04-21T12:49:02.000-04:00', MIDDLE_NAME='trina', SSN=123459758, STREET_NAME='Country Club Road'),\n",
       " Row(APT_NO='301', CREDIT_CARD_NO='4210653310356919', CUST_CITY='ElPaso', CUST_COUNTRY='United States', CUST_EMAIL='WAyers@example.com', CUST_PHONE=1242074, CUST_STATE='TX', CUST_ZIP='79930', FIRST_NAME='Wilfred', LAST_NAME='Ayers', LAST_UPDATED='2018-04-21T12:49:02.000-04:00', MIDDLE_NAME='may', SSN=123454431, STREET_NAME='Madison Street')]"
      ]
     },
     "execution_count": 36,
     "metadata": {},
     "output_type": "execute_result"
    }
   ],
   "source": [
    "df_cust = df_cust.withColumn('MIDDLE_NAME', lower(sf.col('MIDDLE_NAME')))\n",
    "df_cust = df_cust.withColumn('FIRST_NAME', initcap(sf.col('FIRST_NAME')))\n",
    "df_cust = df_cust.withColumn('LAST_NAME', initcap(sf.col('LAST_NAME')))\n",
    "df_cust.head(5)"
   ]
  },
  {
   "cell_type": "code",
   "execution_count": 37,
   "metadata": {},
   "outputs": [
    {
     "data": {
      "text/plain": [
       "[Row(APT_NO='656', CREDIT_CARD_NO='4210653310061055', CUST_CITY='Natchez', CUST_COUNTRY='United States', CUST_EMAIL='AHooper@example.com', CUST_PHONE=1237818, CUST_STATE='MS', CUST_ZIP='39120', FIRST_NAME='Alec', LAST_NAME='Hooper', LAST_UPDATED='2018-04-21T12:49:02.000-04:00', MIDDLE_NAME='wm', SSN=123456100, STREET_NAME='Main Street North', FULL_STREET_ADDRESS='656, Main Street North')]"
      ]
     },
     "execution_count": 37,
     "metadata": {},
     "output_type": "execute_result"
    }
   ],
   "source": [
    "df_cust = df_cust.withColumn('FULL_STREET_ADDRESS', \n",
    "                    sf.concat(sf.col('APT_NO'),sf.lit(', '), sf.col('STREET_NAME')))\n",
    "df_cust.take(1)"
   ]
  },
  {
   "cell_type": "code",
   "execution_count": 38,
   "metadata": {},
   "outputs": [
    {
     "data": {
      "text/plain": [
       "[Row(APT_NO='656', CREDIT_CARD_NO='4210653310061055', CUST_CITY='Natchez', CUST_COUNTRY='United States', CUST_EMAIL='AHooper@example.com', CUST_PHONE=1237818, CUST_STATE='MS', CUST_ZIP='39120', FIRST_NAME='Alec', LAST_NAME='Hooper', LAST_UPDATED='2018-04-21T12:49:02.000-04:00', MIDDLE_NAME='wm', SSN=123456100, STREET_NAME='Main Street North', FULL_STREET_ADDRESS='656, Main Street North', Ph='123-7818')]"
      ]
     },
     "execution_count": 38,
     "metadata": {},
     "output_type": "execute_result"
    }
   ],
   "source": [
    "df_cust = df_cust.withColumn('Ph',  sf.concat(substring('CUST_PHONE',1,3), sf.lit('-'), substring('CUST_PHONE',4,7) ))\n",
    "df_cust.take(1)"
   ]
  },
  {
   "cell_type": "code",
   "execution_count": 39,
   "metadata": {},
   "outputs": [
    {
     "name": "stdout",
     "output_type": "stream",
     "text": [
      "+-------+------------------+\n",
      "|summary|          CUST_ZIP|\n",
      "+-------+------------------+\n",
      "|  count|               952|\n",
      "|   mean|36312.616596638654|\n",
      "| stddev| 23945.49431677531|\n",
      "|    min|             01810|\n",
      "|    max|             98908|\n",
      "+-------+------------------+\n",
      "\n"
     ]
    }
   ],
   "source": [
    "df_cust.describe('CUST_ZIP').show()"
   ]
  },
  {
   "cell_type": "markdown",
   "metadata": {},
   "source": [
    "6. Transfer data from source table 'CDW_SAPP_D_CUSTOMER' to target table 'CDW_SAPP_CUSTOMER'"
   ]
  },
  {
   "cell_type": "code",
   "execution_count": 40,
   "metadata": {},
   "outputs": [
    {
     "name": "stdout",
     "output_type": "stream",
     "text": [
      "+---------+----------+-----------+---------+----------------+--------------------+------------+----------+-------------+--------+----------+--------------------+--------------------+\n",
      "|      SSN|FIRST_NAME|MIDDLE_NAME|LAST_NAME|  Credit_card_no| FULL_STREET_ADDRESS|   CUST_CITY|CUST_STATE| CUST_COUNTRY|CUST_ZIP|CUST_PHONE|          CUST_EMAIL|        LAST_UPDATED|\n",
      "+---------+----------+-----------+---------+----------------+--------------------+------------+----------+-------------+--------+----------+--------------------+--------------------+\n",
      "|123456100|      Alec|         wm|   Hooper|4210653310061055|656, Main Street ...|     Natchez|        MS|United States|   39120|  123-7818| AHooper@example.com|2018-04-21T12:49:...|\n",
      "|123453023|      Etta|    brendan|   Holman|4210653310102868|  829, Redwood Drive|Wethersfield|        CT|United States|   06109|  123-8933| EHolman@example.com|2018-04-21T12:49:...|\n",
      "|123454487|    Wilber|   ezequiel|   Dunham|4210653310116272|683, 12th Street ...|     Huntley|        IL|United States|   60142|  124-3018| WDunham@example.com|2018-04-21T12:49:...|\n",
      "|123459758|   Eugenio|      trina|    Hardy|4210653310195948|253, Country Club...|   NewBerlin|        WI|United States|   53151|  124-3215|  EHardy@example.com|2018-04-21T12:49:...|\n",
      "|123454431|   Wilfred|        may|    Ayers|4210653310356919| 301, Madison Street|      ElPaso|        TX|United States|   79930|  124-2074|  WAyers@example.com|2018-04-21T12:49:...|\n",
      "|123454202|      Beau|    ambrose|  Woodard|4210653310395982|   3, Colonial Drive|NorthOlmsted|        OH|United States|   44070|  124-2570|BWoodard@example.com|2018-04-21T12:49:...|\n",
      "|123451799|    Sheila|      larry|     Kemp|4210653310400536|  84, Belmont Avenue|      Vienna|        VA|United States|   22180|  123-9685|   SKemp@example.com|2018-04-21T12:49:...|\n",
      "|123453875|     Wendy|        ora|   Hurley|4210653310459911|   728, Oxford Court|      Duarte|        CA|United States|   91010|  123-8213| WHurley@example.com|2018-04-21T12:49:...|\n",
      "|123457511|      Alec|     tracie|  Gilmore|4210653310773972|   81, Forest Street|      Owosso|        MI|United States|   48867|  124-0689|AGilmore@example.com|2018-04-21T12:49:...|\n",
      "|123457464|    Barbra|    mitchel|      Lau|4210653310794854|   561, Court Street|        Zion|        IL|United States|   60099|  123-5222|    BLau@example.com|2018-04-21T12:49:...|\n",
      "|123457639|   Edmundo|      denny|  Thomson|4210653310817373|  622, Cypress Court|  Youngstown|        OH|United States|   44512|  124-1363|EThomson@example.com|2018-04-21T12:49:...|\n",
      "|123453242|      Elsa|   isabelle|   Truong|4210653310844617|924, 8th Street West| Summerville|        SC|United States|   29483|  123-6228| ETruong@example.com|2018-04-21T12:49:...|\n",
      "|123454339|     Homer|      henry| Mckinney|4210653311015303|    611, East Avenue|      ElPaso|        TX|United States|   79930|  123-8165|HMckinney@example...|2018-04-21T12:49:...|\n",
      "|123454537|      Rita|     rickey|     Kidd|4210653311215039|       680, Route 44|      Fenton|        MI|United States|   48430|  123-4730|   RKidd@example.com|2018-04-21T12:49:...|\n",
      "|123452373|    Amalia|  heriberto|  Ballard|4210653311229354|   71, Warren Street|  Grandville|        MI|United States|   49418|  124-2113|ABallard@example.com|2018-04-21T12:49:...|\n",
      "|123455343|     Patty|   angelita|   Thomas|4210653311652836|   195, Jones Street|    YubaCity|        CA|United States|   95993|  123-9888| PThomas@example.com|2018-04-21T12:49:...|\n",
      "|123451533|  Josefina|   dorothea|   Morrow|4210653311707126|     500, New Street|   CapeCoral|        FL|United States|   33904|  124-0158| JMorrow@example.com|2018-04-21T12:49:...|\n",
      "|123459278|    Nelson|  jefferson|  Andrews|4210653311730764|989, Division Street|  Brookfield|        WI|United States|   53045|  124-1408|NAndrews@example.com|2018-04-21T12:49:...|\n",
      "|123456915|    Miquel|     maximo|Schneider|4210653311898082|   810, Maple Street|    Richmond|        VA|United States|   23223|  123-8390|MSchneider@exampl...|2018-04-21T12:49:...|\n",
      "|123453807|    Parker|    arnulfo|  Tidwell|4210653312021765|     649, Eagle Road| WestChester|        PA|United States|   19380|  123-5067|PTidwell@example.com|2018-04-21T12:49:...|\n",
      "+---------+----------+-----------+---------+----------------+--------------------+------------+----------+-------------+--------+----------+--------------------+--------------------+\n",
      "only showing top 20 rows\n",
      "\n"
     ]
    }
   ],
   "source": [
    "CDW_SAPP_CUSTOMER = df_cust.selectExpr('SSN', 'FIRST_NAME', 'MIDDLE_NAME', 'LAST_NAME', 'Credit_card_no', 'FULL_STREET_ADDRESS', 'CUST_CITY', 'CUST_STATE','CUST_COUNTRY', 'CUST_ZIP', 'Ph as CUST_PHONE', 'CUST_EMAIL', 'LAST_UPDATED')\n",
    "CDW_SAPP_CUSTOMER.show()"
   ]
  },
  {
   "cell_type": "markdown",
   "metadata": {},
   "source": [
    "1. BRANCH_ZIP - If the source value is null load default (00000) value else Direct move\n",
    "2. BRANCH_PHONE - Change the format of phone number to (XXX)XXX-XXXX"
   ]
  },
  {
   "cell_type": "code",
   "execution_count": 41,
   "metadata": {},
   "outputs": [
    {
     "name": "stdout",
     "output_type": "stream",
     "text": [
      "+-----------------+-----------+------------+------------+------------+-------------------+----------+--------------------+-------------+\n",
      "|      BRANCH_CITY|BRANCH_CODE| BRANCH_NAME|BRANCH_PHONE|BRANCH_STATE|      BRANCH_STREET|BRANCH_ZIP|        LAST_UPDATED|           ph|\n",
      "+-----------------+-----------+------------+------------+------------+-------------------+----------+--------------------+-------------+\n",
      "|        Lakeville|          1|Example Bank|  1234565276|          MN|       Bridle Court|     55044|2018-04-18T16:51:...|(123)456-5276|\n",
      "|          Huntley|          2|Example Bank|  1234618993|          IL|  Washington Street|     60142|2018-04-18T16:51:...|(123)461-8993|\n",
      "|SouthRichmondHill|          3|Example Bank|  1234985926|          NY|      Warren Street|     11419|2018-04-18T16:51:...|(123)498-5926|\n",
      "|       Middleburg|          4|Example Bank|  1234663064|          FL|   Cleveland Street|     32068|2018-04-18T16:51:...|(123)466-3064|\n",
      "|    KingOfPrussia|          5|Example Bank|  1234849701|          PA|        14th Street|     19406|2018-04-18T16:51:...|(123)484-9701|\n",
      "|         Paterson|          7|Example Bank|  1234144890|          NJ|   Jefferson Street|      7501|2018-04-18T16:51:...|(123)414-4890|\n",
      "|        Pittsford|          8|Example Bank|  1234678272|          NY|           B Street|     14534|2018-04-18T16:51:...|(123)467-8272|\n",
      "|     Wethersfield|          9|Example Bank|  1234675219|          CT|    Jefferson Court|      6109|2018-04-18T16:51:...|(123)467-5219|\n",
      "|     NorthOlmsted|         10|Example Bank|  1234145047|          OH|     Cambridge Road|     44070|2018-04-18T16:51:...|(123)414-5047|\n",
      "|     Hillsborough|         11|Example Bank|  1234366354|          NJ|    3rd Street West|      8844|2018-04-18T16:51:...|(123)436-6354|\n",
      "|   MadisonHeights|         12|Example Bank|  1234867175|          MI|          Mill Road|     48071|2018-04-18T16:51:...|(123)486-7175|\n",
      "|           Oviedo|         14|Example Bank|  1234938460|          FL|  Washington Street|     32765|2018-04-18T16:51:...|(123)493-8460|\n",
      "|    Mechanicsburg|         15|Example Bank|  1234462043|          PA|    Chestnut Street|     17050|2018-04-18T16:51:...|(123)446-2043|\n",
      "|        Plainview|         16|Example Bank|  1234857525|          NY|       Monroe Drive|     11803|2018-04-18T16:51:...|(123)485-7525|\n",
      "|          Paducah|         17|Example Bank|  1234546360|          KY|    Railroad Street|     42001|2018-04-18T16:51:...|(123)454-6360|\n",
      "|     Harleysville|         18|Example Bank|  1234824455|          PA|Church Street South|     19438|2018-04-18T16:51:...|(123)482-4455|\n",
      "|     SilverSpring|         19|Example Bank|  1234484380|          MD|        King Street|     20901|2018-04-18T16:51:...|(123)448-4380|\n",
      "|       Burnsville|         20|Example Bank|  1234840138|          MN|   Canterbury Drive|     55337|2018-04-18T16:51:...|(123)484-0138|\n",
      "|           Tacoma|         21|Example Bank|  1234362433|          WA|         2nd Avenue|     98444|2018-04-18T16:51:...|(123)436-2433|\n",
      "|         Carlisle|         22|Example Bank|  1234922492|          PA| Front Street South|     17013|2018-04-18T16:51:...|(123)492-2492|\n",
      "+-----------------+-----------+------------+------------+------------+-------------------+----------+--------------------+-------------+\n",
      "only showing top 20 rows\n",
      "\n"
     ]
    }
   ],
   "source": [
    "df_branch = df_branch.na.fill(00000, subset = ['BRANCH_ZIP'])\n",
    "\n",
    "df_branch = df_branch.withColumn('ph',  sf.concat(sf.lit('('), substring('BRANCH_PHONE',1,3), sf.lit(')'), substring('BRANCH_PHONE',4,3),sf.lit('-'), substring('BRANCH_PHONE',7,4) ))\n",
    "df_branch.show()"
   ]
  },
  {
   "cell_type": "markdown",
   "metadata": {},
   "source": [
    " Transfer data from source table 'CDW_SAPP_D_BRANCH' to target table 'CDW_SAPP_BRANCH'"
   ]
  },
  {
   "cell_type": "code",
   "execution_count": 42,
   "metadata": {},
   "outputs": [
    {
     "name": "stdout",
     "output_type": "stream",
     "text": [
      "+-----------+------------+-------------------+-----------------+------------+----------+-------------+--------------------+\n",
      "|BRANCH_CODE| BRANCH_NAME|      BRANCH_STREET|      BRANCH_CITY|BRANCH_STATE|BRANCH_ZIP| BRANCH_PHONE|        LAST_UPDATED|\n",
      "+-----------+------------+-------------------+-----------------+------------+----------+-------------+--------------------+\n",
      "|          1|Example Bank|       Bridle Court|        Lakeville|          MN|     55044|(123)456-5276|2018-04-18T16:51:...|\n",
      "|          2|Example Bank|  Washington Street|          Huntley|          IL|     60142|(123)461-8993|2018-04-18T16:51:...|\n",
      "|          3|Example Bank|      Warren Street|SouthRichmondHill|          NY|     11419|(123)498-5926|2018-04-18T16:51:...|\n",
      "|          4|Example Bank|   Cleveland Street|       Middleburg|          FL|     32068|(123)466-3064|2018-04-18T16:51:...|\n",
      "|          5|Example Bank|        14th Street|    KingOfPrussia|          PA|     19406|(123)484-9701|2018-04-18T16:51:...|\n",
      "|          7|Example Bank|   Jefferson Street|         Paterson|          NJ|      7501|(123)414-4890|2018-04-18T16:51:...|\n",
      "|          8|Example Bank|           B Street|        Pittsford|          NY|     14534|(123)467-8272|2018-04-18T16:51:...|\n",
      "|          9|Example Bank|    Jefferson Court|     Wethersfield|          CT|      6109|(123)467-5219|2018-04-18T16:51:...|\n",
      "|         10|Example Bank|     Cambridge Road|     NorthOlmsted|          OH|     44070|(123)414-5047|2018-04-18T16:51:...|\n",
      "|         11|Example Bank|    3rd Street West|     Hillsborough|          NJ|      8844|(123)436-6354|2018-04-18T16:51:...|\n",
      "|         12|Example Bank|          Mill Road|   MadisonHeights|          MI|     48071|(123)486-7175|2018-04-18T16:51:...|\n",
      "|         14|Example Bank|  Washington Street|           Oviedo|          FL|     32765|(123)493-8460|2018-04-18T16:51:...|\n",
      "|         15|Example Bank|    Chestnut Street|    Mechanicsburg|          PA|     17050|(123)446-2043|2018-04-18T16:51:...|\n",
      "|         16|Example Bank|       Monroe Drive|        Plainview|          NY|     11803|(123)485-7525|2018-04-18T16:51:...|\n",
      "|         17|Example Bank|    Railroad Street|          Paducah|          KY|     42001|(123)454-6360|2018-04-18T16:51:...|\n",
      "|         18|Example Bank|Church Street South|     Harleysville|          PA|     19438|(123)482-4455|2018-04-18T16:51:...|\n",
      "|         19|Example Bank|        King Street|     SilverSpring|          MD|     20901|(123)448-4380|2018-04-18T16:51:...|\n",
      "|         20|Example Bank|   Canterbury Drive|       Burnsville|          MN|     55337|(123)484-0138|2018-04-18T16:51:...|\n",
      "|         21|Example Bank|         2nd Avenue|           Tacoma|          WA|     98444|(123)436-2433|2018-04-18T16:51:...|\n",
      "|         22|Example Bank| Front Street South|         Carlisle|          PA|     17013|(123)492-2492|2018-04-18T16:51:...|\n",
      "+-----------+------------+-------------------+-----------------+------------+----------+-------------+--------------------+\n",
      "only showing top 20 rows\n",
      "\n"
     ]
    }
   ],
   "source": [
    "CDW_SAPP_BRANCH= df_branch.selectExpr('BRANCH_CODE', 'BRANCH_NAME', 'BRANCH_STREET', 'BRANCH_CITY', 'BRANCH_STATE','BRANCH_ZIP', 'ph as BRANCH_PHONE', 'LAST_UPDATED')\n",
    "CDW_SAPP_BRANCH.show()"
   ]
  },
  {
   "cell_type": "code",
   "execution_count": 43,
   "metadata": {},
   "outputs": [
    {
     "name": "stdout",
     "output_type": "stream",
     "text": [
      "+-----------+----------------+---------+---+-----+--------------+----------------+-----------------+----+----------+--------+\n",
      "|BRANCH_CODE|  CREDIT_CARD_NO| CUST_SSN|DAY|MONTH|TRANSACTION_ID|TRANSACTION_TYPE|TRANSACTION_VALUE|YEAR|   TIMECol|  TIMEID|\n",
      "+-----------+----------------+---------+---+-----+--------------+----------------+-----------------+----+----------+--------+\n",
      "|        114|4210653349028689|123459988| 14|    2|             1|       Education|             78.9|2018|2018-02-14|20180214|\n",
      "|         35|4210653349028689|123459988| 20|    3|             2|   Entertainment|            14.24|2018|2018-03-20|20180320|\n",
      "|        160|4210653349028689|123459988|  8|    7|             3|         Grocery|             56.7|2018|2018-07-08|20180708|\n",
      "|        114|4210653349028689|123459988| 19|    4|             4|   Entertainment|            59.73|2018|2018-04-19|20180419|\n",
      "|         93|4210653349028689|123459988| 10|   10|             5|             Gas|             3.59|2018|2018-10-10|20181010|\n",
      "|        164|4210653349028689|123459988| 28|    5|             6|       Education|             6.89|2018|2018-05-28|20180528|\n",
      "|        119|4210653349028689|123459988| 19|    5|             7|   Entertainment|            43.39|2018|2018-05-19|20180519|\n",
      "|         23|4210653349028689|123459988|  8|    8|             8|             Gas|            95.39|2018|2018-08-08|20180808|\n",
      "|        166|4210653349028689|123459988| 18|    3|             9|   Entertainment|            93.26|2018|2018-03-18|20180318|\n",
      "|         83|4210653349028689|123459988|  3|    9|            10|           Bills|           100.38|2018|2018-09-03|20180903|\n",
      "|         52|4210653349028689|123459988| 21|    8|            11|             Gas|            98.75|2018|2018-08-21|20180821|\n",
      "|         17|4210653349028689|123459988| 24|   12|            12|             Gas|            42.71|2018|2018-12-24|20181224|\n",
      "|         80|4210653349028689|123459988|  3|    4|            13|         Grocery|            40.24|2018|2018-04-03|20180403|\n",
      "|         50|4210653349028689|123459988| 15|    4|            14|           Bills|            17.81|2018|2018-04-15|20180415|\n",
      "|        123|4210653349028689|123459988| 17|    5|            15|           Bills|             29.0|2018|2018-05-17|20180517|\n",
      "|          9|4210653349028689|123459988|  6|    7|            16|            Test|            70.63|2018|2018-07-06|20180706|\n",
      "|          3|4210653349028689|123459988| 28|    9|            17|            Test|            27.04|2018|2018-09-28|20180928|\n",
      "|        135|4210653349028689|123459988|  4|    7|            18|   Entertainment|            88.75|2018|2018-07-04|20180704|\n",
      "|        103|4210653349028689|123459988| 24|    4|            19|            Test|            77.02|2018|2018-04-24|20180424|\n",
      "|         78|4210653349028689|123459988|  8|   10|            20|           Bills|            34.34|2018|2018-10-08|20181008|\n",
      "+-----------+----------------+---------+---+-----+--------------+----------------+-----------------+----+----------+--------+\n",
      "only showing top 20 rows\n",
      "\n"
     ]
    }
   ],
   "source": [
    "#df_credit.withColumn(\"TimeID\",to_timestamp(df_credit['DAY'])).show(3,False)\n",
    "df_credit1 = df_credit.withColumn('TIMECol',  sf.concat(df_credit['YEAR'], lit('-'), df_credit['MONTH'], lit('-'), df_credit['DAY']).cast('date'))\n",
    "df_credit1 = df_credit1.withColumn(\"TIMEID\", df_credit1[\"TIMECol\"].cast('string'))\n",
    "df_credit1 = df_credit1.withColumn(\"TIMEID\", regexp_replace('TIMEID','-',''))\n",
    "df_credit1.show()"
   ]
  },
  {
   "cell_type": "markdown",
   "metadata": {},
   "source": [
    " Transfer data from source table 'CDW_SAPP_D_CREDIT_CARD' to target table 'CDW_SAPP_CREDIT_CARD'"
   ]
  },
  {
   "cell_type": "code",
   "execution_count": 44,
   "metadata": {},
   "outputs": [
    {
     "name": "stdout",
     "output_type": "stream",
     "text": [
      "+----------------+--------+---------+-----------+----------------+-----------------+--------------+\n",
      "|      CUST_CC_NO|  TIMEID| CUST_SSN|BRANCH_CODE|TRANSACTION_TYPE|TRANSACTION_VALUE|TRANSACTION_ID|\n",
      "+----------------+--------+---------+-----------+----------------+-----------------+--------------+\n",
      "|4210653349028689|20180214|123459988|        114|       Education|             78.9|             1|\n",
      "|4210653349028689|20180320|123459988|         35|   Entertainment|            14.24|             2|\n",
      "|4210653349028689|20180708|123459988|        160|         Grocery|             56.7|             3|\n",
      "|4210653349028689|20180419|123459988|        114|   Entertainment|            59.73|             4|\n",
      "|4210653349028689|20181010|123459988|         93|             Gas|             3.59|             5|\n",
      "|4210653349028689|20180528|123459988|        164|       Education|             6.89|             6|\n",
      "|4210653349028689|20180519|123459988|        119|   Entertainment|            43.39|             7|\n",
      "|4210653349028689|20180808|123459988|         23|             Gas|            95.39|             8|\n",
      "|4210653349028689|20180318|123459988|        166|   Entertainment|            93.26|             9|\n",
      "|4210653349028689|20180903|123459988|         83|           Bills|           100.38|            10|\n",
      "|4210653349028689|20180821|123459988|         52|             Gas|            98.75|            11|\n",
      "|4210653349028689|20181224|123459988|         17|             Gas|            42.71|            12|\n",
      "|4210653349028689|20180403|123459988|         80|         Grocery|            40.24|            13|\n",
      "|4210653349028689|20180415|123459988|         50|           Bills|            17.81|            14|\n",
      "|4210653349028689|20180517|123459988|        123|           Bills|             29.0|            15|\n",
      "|4210653349028689|20180706|123459988|          9|            Test|            70.63|            16|\n",
      "|4210653349028689|20180928|123459988|          3|            Test|            27.04|            17|\n",
      "|4210653349028689|20180704|123459988|        135|   Entertainment|            88.75|            18|\n",
      "|4210653349028689|20180424|123459988|        103|            Test|            77.02|            19|\n",
      "|4210653349028689|20181008|123459988|         78|           Bills|            34.34|            20|\n",
      "+----------------+--------+---------+-----------+----------------+-----------------+--------------+\n",
      "only showing top 20 rows\n",
      "\n"
     ]
    }
   ],
   "source": [
    "CDW_SAPP_CREDIT_CARD = df_credit1.selectExpr('CREDIT_CARD_NO as CUST_CC_NO', 'TIMEID', 'CUST_SSN', 'BRANCH_CODE', 'TRANSACTION_TYPE', 'TRANSACTION_VALUE', 'TRANSACTION_ID')\n",
    "CDW_SAPP_CREDIT_CARD.show()"
   ]
  },
  {
   "cell_type": "markdown",
   "metadata": {},
   "source": [
    "2. Data Loading from database"
   ]
  },
  {
   "cell_type": "code",
   "execution_count": 51,
   "metadata": {},
   "outputs": [],
   "source": [
    "CDW_SAPP_CUSTOMER.write.format(\"jdbc\") \\\n",
    ".mode(\"overwrite\") \\\n",
    ".option(\"url\", \"jdbc:mysql://localhost:3306/creditcard_capstone\") \\\n",
    ".option(\"dbtable\", \"creditcard_capstone.CDW_SAPP_CUSTOMER\") \\\n",
    ".option(\"user\", \"root\") \\\n",
    ".option(\"password\", \"lakshmi\") \\\n",
    ".option(\"primaryKeyFields\",\"SSN\")\\\n",
    ".save()"
   ]
  },
  {
   "cell_type": "code",
   "execution_count": 47,
   "metadata": {},
   "outputs": [],
   "source": [
    "CDW_SAPP_BRANCH.write.format(\"jdbc\") \\\n",
    ".mode(\"overwrite\") \\\n",
    ".option(\"url\", \"jdbc:mysql://localhost:3306/creditcard_capstone\") \\\n",
    ".option(\"dbtable\", \"creditcard_capstone.CDW_SAPP_BRANCH\") \\\n",
    ".option(\"user\", \"root\") \\\n",
    ".option(\"password\", \"lakshmi\") \\\n",
    ".option(\"primaryKeyFields\", \"BRANCH_CODE\")\\\n",
    ".save()"
   ]
  },
  {
   "cell_type": "code",
   "execution_count": 49,
   "metadata": {},
   "outputs": [
    {
     "name": "stdout",
     "output_type": "stream",
     "text": [
      "+----------------+--------+---------+-----------+----------------+-----------------+--------------+\n",
      "|      CUST_CC_NO|  TIMEID| CUST_SSN|BRANCH_CODE|TRANSACTION_TYPE|TRANSACTION_VALUE|TRANSACTION_ID|\n",
      "+----------------+--------+---------+-----------+----------------+-----------------+--------------+\n",
      "|4210653349028689|20180214|123459988|        114|       Education|             78.9|             1|\n",
      "|4210653349028689|20180320|123459988|         35|   Entertainment|            14.24|             2|\n",
      "|4210653349028689|20180708|123459988|        160|         Grocery|             56.7|             3|\n",
      "|4210653349028689|20180419|123459988|        114|   Entertainment|            59.73|             4|\n",
      "|4210653349028689|20181010|123459988|         93|             Gas|             3.59|             5|\n",
      "|4210653349028689|20180528|123459988|        164|       Education|             6.89|             6|\n",
      "|4210653349028689|20180519|123459988|        119|   Entertainment|            43.39|             7|\n",
      "|4210653349028689|20180808|123459988|         23|             Gas|            95.39|             8|\n",
      "|4210653349028689|20180318|123459988|        166|   Entertainment|            93.26|             9|\n",
      "|4210653349028689|20180903|123459988|         83|           Bills|           100.38|            10|\n",
      "|4210653349028689|20180821|123459988|         52|             Gas|            98.75|            11|\n",
      "|4210653349028689|20181224|123459988|         17|             Gas|            42.71|            12|\n",
      "|4210653349028689|20180403|123459988|         80|         Grocery|            40.24|            13|\n",
      "|4210653349028689|20180415|123459988|         50|           Bills|            17.81|            14|\n",
      "|4210653349028689|20180517|123459988|        123|           Bills|             29.0|            15|\n",
      "|4210653349028689|20180706|123459988|          9|            Test|            70.63|            16|\n",
      "|4210653349028689|20180928|123459988|          3|            Test|            27.04|            17|\n",
      "|4210653349028689|20180704|123459988|        135|   Entertainment|            88.75|            18|\n",
      "|4210653349028689|20180424|123459988|        103|            Test|            77.02|            19|\n",
      "|4210653349028689|20181008|123459988|         78|           Bills|            34.34|            20|\n",
      "+----------------+--------+---------+-----------+----------------+-----------------+--------------+\n",
      "only showing top 20 rows\n",
      "\n"
     ]
    }
   ],
   "source": [
    "CDW_SAPP_CREDIT_CARD.show()\n",
    "CDW_SAPP_CREDIT_CARD.write.format(\"jdbc\") \\\n",
    ".mode(\"overwrite\") \\\n",
    ".option(\"url\", \"jdbc:mysql://localhost:3306/creditcard_capstone\") \\\n",
    ".option(\"dbtable\", \"creditcard_capstone.CDW_SAPP_CREDIT_CARD\") \\\n",
    ".option(\"user\", \"root\") \\\n",
    ".option(\"password\", \"lakshmi\") \\\n",
    ".option(\"primaryKeyFields\", \"TRANSACTION_ID\")\\\n",
    ".save()"
   ]
  }
 ],
 "metadata": {
  "kernelspec": {
   "display_name": "Python 3.9.12 ('base')",
   "language": "python",
   "name": "python3"
  },
  "language_info": {
   "codemirror_mode": {
    "name": "ipython",
    "version": 3
   },
   "file_extension": ".py",
   "mimetype": "text/x-python",
   "name": "python",
   "nbconvert_exporter": "python",
   "pygments_lexer": "ipython3",
   "version": "3.9.12"
  },
  "orig_nbformat": 4,
  "vscode": {
   "interpreter": {
    "hash": "c79465c0d6a196c37fb2af414408a09a9db03ab70a555f22dd04c6f5233e23ef"
   }
  }
 },
 "nbformat": 4,
 "nbformat_minor": 2
}
